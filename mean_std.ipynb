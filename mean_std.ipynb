{
 "cells": [
  {
   "cell_type": "code",
   "execution_count": 3,
   "metadata": {},
   "outputs": [],
   "source": [
    "import os\n",
    "from PIL import Image\n",
    "import numpy as np\n",
    "from tqdm import tqdm\n",
    "from multiprocessing.dummy import Pool\n",
    "\n",
    "# 定义函数遍历文件夹中所有PNG文件\n",
    "def find_png_files(folder_path):\n",
    "    png_files = []\n",
    "    for root, dirs, files in os.walk(folder_path):\n",
    "        for file in files:\n",
    "            if file.endswith('.png'):\n",
    "                png_files.append(os.path.join(root, file))\n",
    "    return png_files\n",
    "\n",
    "# 定义函数计算单张图片的均值和方差\n",
    "def calculate_mean_and_variance_for_image(path):\n",
    "    mean = 0\n",
    "    std = 0\n",
    "    png_files = find_png_files(path)\n",
    "    for img in png_files:\n",
    "        # 读取图片\n",
    "        image = Image.open(img)\n",
    "        image = np.asarray(image)\n",
    "        mean += np.mean(image)\n",
    "        std += np.std(image)\n",
    "    \n",
    "    try: \n",
    "        mean /= len(png_files)\n",
    "        std /= len(png_files)\n",
    "        return mean, std\n",
    "    except Exception as e:\n",
    "        print(f\"Error {e}: {path}\")\n",
    "        return 0, 0\n",
    "    \n",
    "\n",
    "# 定义函数计算均值和方差\n",
    "def calculate_mean_and_variance(paths):\n",
    "    # 初始化均值和方差\n",
    "    mean = np.zeros(1)\n",
    "    variance = np.zeros(1)\n",
    "    process_num = 40\n",
    "    pool = Pool(process_num)\n",
    "    results = []\n",
    "\n",
    "    # 找到路径下所有文件夹名\n",
    "    folders = os.listdir(paths)\n",
    "    num_folders = len(folders)\n",
    "\n",
    "    for folder in folders:\n",
    "        folder = os.path.join(paths, folder)\n",
    "        results.append(pool.apply_async(calculate_mean_and_variance_for_image, (folder,)))\n",
    "    pool.close()\n",
    "\n",
    "    # 将每张图片的均值和方差累加起来\n",
    "    for i, result in tqdm(enumerate(results),total=num_folders):\n",
    "        mean += result.get()[0]\n",
    "        variance += result.get()[1]\n",
    "    \n",
    "    pool.join()\n",
    "\n",
    "    # 计算总体均值和方差\n",
    "    mean /= num_folders\n",
    "    variance /= num_folders\n",
    "    \n",
    "    return mean, variance\n",
    "\n"
   ]
  },
  {
   "cell_type": "code",
   "execution_count": 4,
   "metadata": {},
   "outputs": [
    {
     "name": "stderr",
     "output_type": "stream",
     "text": [
      "  0%|          | 0/648 [00:00<?, ?it/s]"
     ]
    },
    {
     "name": "stderr",
     "output_type": "stream",
     "text": [
      "100%|██████████| 648/648 [08:02<00:00,  1.34it/s]"
     ]
    },
    {
     "name": "stdout",
     "output_type": "stream",
     "text": [
      "Mean: [29540.09186308]\n",
      "Variance: [16727.8130729]\n"
     ]
    },
    {
     "name": "stderr",
     "output_type": "stream",
     "text": [
      "\n"
     ]
    }
   ],
   "source": [
    "root_path = r'D:\\PostGraduate\\DL\\mgam_CT\\data\\2023_Med_CQK\\img'\n",
    "mean, variance = calculate_mean_and_variance(root_path)\n",
    "print('Mean:', mean)\n",
    "print('Variance:', variance)"
   ]
  },
  {
   "cell_type": "code",
   "execution_count": 8,
   "metadata": {},
   "outputs": [
    {
     "name": "stdout",
     "output_type": "stream",
     "text": [
      "The image at D:\\PostGraduate\\DL\\mgam_CT\\data\\2023_Med_CQK\\img\\柏家荣\\ImageFileName000.png has 1 channel(s): I\n"
     ]
    }
   ],
   "source": [
    "from PIL import Image\n",
    "\n",
    "def get_channels(image_path):\n",
    "    with Image.open(image_path) as img:\n",
    "        return img.mode\n",
    "\n",
    "image_path = r\"D:\\PostGraduate\\DL\\mgam_CT\\data\\2023_Med_CQK\\img\\柏家荣\\ImageFileName000.png\"\n",
    "channels = get_channels(image_path)\n",
    "print(f'The image at {image_path} has {len(channels)} channel(s): {channels}')\n"
   ]
  },
  {
   "cell_type": "code",
   "execution_count": 2,
   "metadata": {},
   "outputs": [
    {
     "name": "stdout",
     "output_type": "stream",
     "text": [
      "65535 0 31566.25786590576 17640.927570253447\n"
     ]
    }
   ],
   "source": [
    "from PIL import Image\n",
    "import numpy as np\n",
    "\n",
    "path = r\"D:\\PostGraduate\\DL\\mgam_CT\\data\\2023_Med_CQK\\img\\柏家荣\\ImageFileName000.png\"\n",
    "image = Image.open(path)\n",
    "image = np.asarray(image)\n",
    "print(image.max(),image.min(),image.mean(),image.std())\n"
   ]
  }
 ],
 "metadata": {
  "kernelspec": {
   "display_name": "mm",
   "language": "python",
   "name": "python3"
  },
  "language_info": {
   "codemirror_mode": {
    "name": "ipython",
    "version": 3
   },
   "file_extension": ".py",
   "mimetype": "text/x-python",
   "name": "python",
   "nbconvert_exporter": "python",
   "pygments_lexer": "ipython3",
   "version": "3.10.10"
  },
  "orig_nbformat": 4
 },
 "nbformat": 4,
 "nbformat_minor": 2
}
