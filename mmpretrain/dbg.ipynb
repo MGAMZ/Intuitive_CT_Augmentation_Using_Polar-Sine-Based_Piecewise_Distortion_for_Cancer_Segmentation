{
 "cells": [
  {
   "cell_type": "code",
   "execution_count": 3,
   "metadata": {},
   "outputs": [
    {
     "name": "stdout",
     "output_type": "stream",
     "text": [
      "[ScalarEvent(wall_time=1707250618.8663301, step=1000, value=376.62628173828125), ScalarEvent(wall_time=1707251006.057721, step=2000, value=396.633056640625), ScalarEvent(wall_time=1707251394.1005745, step=3000, value=489.5135498046875), ScalarEvent(wall_time=1707251782.1318457, step=4000, value=467.706787109375), ScalarEvent(wall_time=1707252170.3130002, step=5000, value=473.5110168457031), ScalarEvent(wall_time=1707252558.8026004, step=6000, value=437.09576416015625), ScalarEvent(wall_time=1707252947.3200407, step=7000, value=508.2025451660156), ScalarEvent(wall_time=1707253336.0587313, step=8000, value=437.63812255859375), ScalarEvent(wall_time=1707253728.0035193, step=9000, value=405.3940734863281), ScalarEvent(wall_time=1707254121.228702, step=10000, value=410.42034912109375)]\n",
      "Failed at ('C:\\\\\\\\mgam\\\\\\\\mgam_CT\\\\\\\\mmpretrain\\\\\\\\work_dirs\\\\\\\\1.relative_Y_learning_baseline\\\\\\\\round_2\\\\\\\\ConvNext\\\\\\\\20240207_040831\\\\\\\\vis_data\\\\\\\\events.out.tfevents.1707250114.MGAM.125376.0', <built-in function min>, ('Dist/RelPos_L1',)), info: cannot access local variable 'series' where it is not associated with a value\n"
     ]
    },
    {
     "ename": "UnboundLocalError",
     "evalue": "cannot access local variable 'series' where it is not associated with a value",
     "output_type": "error",
     "traceback": [
      "\u001b[1;31m---------------------------------------------------------------------------\u001b[0m",
      "\u001b[1;31mUnboundLocalError\u001b[0m                         Traceback (most recent call last)",
      "Cell \u001b[1;32mIn[3], line 13\u001b[0m\n\u001b[0;32m     10\u001b[0m event\u001b[38;5;241m.\u001b[39mReload()\n\u001b[0;32m     11\u001b[0m \u001b[38;5;28mprint\u001b[39m(event\u001b[38;5;241m.\u001b[39mScalars(series))\n\u001b[1;32m---> 13\u001b[0m get_tsb_serial_avg(params)\n",
      "File \u001b[1;32mc:\\mgam\\mgam_CT\\mmpretrain\\summarizer.py:37\u001b[0m, in \u001b[0;36mget_tsb_serial_avg\u001b[1;34m(params)\u001b[0m\n\u001b[0;32m     35\u001b[0m \u001b[38;5;28;01mexcept\u001b[39;00m \u001b[38;5;167;01mException\u001b[39;00m \u001b[38;5;28;01mas\u001b[39;00m e:\n\u001b[0;32m     36\u001b[0m     \u001b[38;5;28mprint\u001b[39m(\u001b[38;5;124mf\u001b[39m\u001b[38;5;124m\"\u001b[39m\u001b[38;5;124mFailed at \u001b[39m\u001b[38;5;132;01m{\u001b[39;00mparams\u001b[38;5;132;01m}\u001b[39;00m\u001b[38;5;124m, info: \u001b[39m\u001b[38;5;132;01m{\u001b[39;00me\u001b[38;5;132;01m}\u001b[39;00m\u001b[38;5;124m\"\u001b[39m)\n\u001b[1;32m---> 37\u001b[0m     \u001b[38;5;28;01mraise\u001b[39;00m e\n\u001b[0;32m     40\u001b[0m \u001b[38;5;28;01mreturn\u001b[39;00m loss_values\n",
      "File \u001b[1;32mc:\\mgam\\mgam_CT\\mmpretrain\\summarizer.py:22\u001b[0m, in \u001b[0;36mget_tsb_serial_avg\u001b[1;34m(params)\u001b[0m\n\u001b[0;32m     20\u001b[0m file, reduction, loss_names \u001b[38;5;241m=\u001b[39m params\n\u001b[0;32m     21\u001b[0m \u001b[38;5;28;01massert\u001b[39;00m \u001b[38;5;28mcallable\u001b[39m(reduction)\n\u001b[1;32m---> 22\u001b[0m \u001b[38;5;28;01massert\u001b[39;00m file \u001b[38;5;129;01mis\u001b[39;00m \u001b[38;5;28mstr\u001b[39m, \u001b[38;5;124mf\u001b[39m\u001b[38;5;124m\"\u001b[39m\u001b[38;5;124mfile and series must be str, but got \u001b[39m\u001b[38;5;132;01m{\u001b[39;00m\u001b[38;5;28mtype\u001b[39m(file)\u001b[38;5;132;01m}\u001b[39;00m\u001b[38;5;124m and \u001b[39m\u001b[38;5;132;01m{\u001b[39;00m\u001b[38;5;28mtype\u001b[39m(series)\u001b[38;5;132;01m}\u001b[39;00m\u001b[38;5;124m\"\u001b[39m\n\u001b[0;32m     23\u001b[0m \u001b[38;5;28;01massert\u001b[39;00m loss_names \u001b[38;5;129;01mis\u001b[39;00m \u001b[38;5;28mlist\u001b[39m, \u001b[38;5;124mf\u001b[39m\u001b[38;5;124m\"\u001b[39m\u001b[38;5;124mloss_names must be list, but got \u001b[39m\u001b[38;5;132;01m{\u001b[39;00m\u001b[38;5;28mtype\u001b[39m(loss_names)\u001b[38;5;132;01m}\u001b[39;00m\u001b[38;5;124m\"\u001b[39m\n\u001b[0;32m     24\u001b[0m \u001b[38;5;28;01massert\u001b[39;00m \u001b[38;5;124m\"\u001b[39m\u001b[38;5;124mevents.out.tfevents\u001b[39m\u001b[38;5;124m\"\u001b[39m \u001b[38;5;129;01min\u001b[39;00m file, \u001b[38;5;124mf\u001b[39m\u001b[38;5;124m\"\u001b[39m\u001b[38;5;124mfile must be a tsb file, but got \u001b[39m\u001b[38;5;132;01m{\u001b[39;00mfile\u001b[38;5;132;01m}\u001b[39;00m\u001b[38;5;124m\"\u001b[39m\n",
      "\u001b[1;31mUnboundLocalError\u001b[0m: cannot access local variable 'series' where it is not associated with a value"
     ]
    }
   ],
   "source": [
    "from tensorboard.backend.event_processing.event_accumulator import EventAccumulator\n",
    "from summarizer import get_tsb_serial_avg\n",
    "\n",
    "file_path = r'C:\\\\mgam\\\\mgam_CT\\\\mmpretrain\\\\work_dirs\\\\1.relative_Y_learning_baseline\\\\round_2\\\\ConvNext\\\\20240207_040831\\\\vis_data\\\\events.out.tfevents.1707250114.MGAM.125376.0'\n",
    "series = r'Dist/RelPos_L1'\n",
    "\n",
    "params = (file_path, min, ('Dist/RelPos_L1',))\n",
    "\n",
    "event = EventAccumulator(file_path)\n",
    "event.Reload()\n",
    "print(event.Scalars(series))\n",
    "\n",
    "get_tsb_serial_avg(params)"
   ]
  }
 ],
 "metadata": {
  "kernelspec": {
   "display_name": "mm",
   "language": "python",
   "name": "python3"
  },
  "language_info": {
   "codemirror_mode": {
    "name": "ipython",
    "version": 3
   },
   "file_extension": ".py",
   "mimetype": "text/x-python",
   "name": "python",
   "nbconvert_exporter": "python",
   "pygments_lexer": "ipython3",
   "version": "3.11.7"
  }
 },
 "nbformat": 4,
 "nbformat_minor": 2
}
