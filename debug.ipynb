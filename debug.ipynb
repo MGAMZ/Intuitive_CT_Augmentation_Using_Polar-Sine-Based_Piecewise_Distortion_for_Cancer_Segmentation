{
 "cells": [
  {
   "cell_type": "code",
   "execution_count": 10,
   "metadata": {},
   "outputs": [
    {
     "name": "stdout",
     "output_type": "stream",
     "text": [
      "[ScalarEvent(wall_time=1705409148.1111178, step=500, value=54.16999816894531), ScalarEvent(wall_time=1705409237.1925168, step=1000, value=60.400001525878906), ScalarEvent(wall_time=1705409326.708284, step=1500, value=67.69999694824219), ScalarEvent(wall_time=1705409415.6175187, step=2000, value=67.23999786376953), ScalarEvent(wall_time=1705409504.5531049, step=2500, value=68.88999938964844), ScalarEvent(wall_time=1705409593.1741102, step=3000, value=70.37999725341797), ScalarEvent(wall_time=1705409682.506049, step=3500, value=69.91000366210938), ScalarEvent(wall_time=1705409771.59409, step=4000, value=70.33999633789062), ScalarEvent(wall_time=1705409860.5547755, step=4500, value=73.9000015258789), ScalarEvent(wall_time=1705409949.0342865, step=5000, value=73.63999938964844), ScalarEvent(wall_time=1705410040.4936287, step=5500, value=72.69999694824219), ScalarEvent(wall_time=1705410133.315608, step=6000, value=73.36000061035156), ScalarEvent(wall_time=1705410226.470172, step=6500, value=73.43000030517578), ScalarEvent(wall_time=1705410318.0467663, step=7000, value=72.37000274658203), ScalarEvent(wall_time=1705410408.4934533, step=7500, value=73.23999786376953), ScalarEvent(wall_time=1705410498.820417, step=8000, value=74.16999816894531), ScalarEvent(wall_time=1705410589.500658, step=8500, value=75.26000213623047), ScalarEvent(wall_time=1705410679.8219748, step=9000, value=73.91999816894531), ScalarEvent(wall_time=1705410770.0854044, step=9500, value=75.62000274658203), ScalarEvent(wall_time=1705410864.1219366, step=10000, value=76.62999725341797)]\n"
     ]
    }
   ],
   "source": [
    "# 使用tensorboard打开file\n",
    "# tensorboard --logdir=logs\n",
    "from tensorboard.backend.event_processing import event_accumulator\n",
    "import numpy as np\n",
    "import matplotlib.pyplot as plt\n",
    "\n",
    "file = r\"D:\\PostGraduate\\DL\\mgam_CT\\mmseg\\work_dirs\\1.2.1.1.1.tf32_fully_enabled\\round_2\\SwinTransformerV2\\20240116_204324\\vis_data\\events.out.tfevents.1705409006.MGAM.24372.0\"\n",
    "# open\n",
    "event = event_accumulator.EventAccumulator(file)\n",
    "event.Reload()\n",
    "# show tag\n",
    "print(event.Scalars('mIoU'))"
   ]
  }
 ],
 "metadata": {
  "kernelspec": {
   "display_name": "mm",
   "language": "python",
   "name": "python3"
  },
  "language_info": {
   "codemirror_mode": {
    "name": "ipython",
    "version": 3
   },
   "file_extension": ".py",
   "mimetype": "text/x-python",
   "name": "python",
   "nbconvert_exporter": "python",
   "pygments_lexer": "ipython3",
   "version": "3.11.7"
  }
 },
 "nbformat": 4,
 "nbformat_minor": 2
}
